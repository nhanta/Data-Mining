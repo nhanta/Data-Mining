{
 "cells": [
  {
   "cell_type": "markdown",
   "metadata": {},
   "source": [
    "## Một cách tiếp cận tính toán áp dụng Simulated Annealing để nghiên cứu tính ổn định của mạng tương tác protein trong ung thư và rối loạn thần kinh. "
   ]
  },
  {
   "cell_type": "markdown",
   "metadata": {},
   "source": [
    "Authors: NhanTV, Trung NT <br>\n",
    "Master Student<br>\n",
    "VNU - HUS\n"
   ]
  },
  {
   "cell_type": "markdown",
   "metadata": {},
   "source": [
    "## Mục đích"
   ]
  },
  {
   "cell_type": "markdown",
   "metadata": {},
   "source": [
    "Dựng lại bài báo khoa học: \"A computational approach inspired by simulated annealing to study the stability of protein interaction networks in cancer and neurological disorders\". "
   ]
  },
  {
   "cell_type": "markdown",
   "metadata": {},
   "source": [
    "## 1 Lọc PPI"
   ]
  },
  {
   "cell_type": "markdown",
   "metadata": {},
   "source": [
    "### 1.1 Nhập thư viện"
   ]
  },
  {
   "cell_type": "code",
   "execution_count": 2,
   "metadata": {},
   "outputs": [],
   "source": [
    "import numpy as np\n",
    "import pandas as pd"
   ]
  },
  {
   "cell_type": "markdown",
   "metadata": {},
   "source": [
    "### 1.2 Đọc dữ liệu PPI, uniprot"
   ]
  },
  {
   "cell_type": "markdown",
   "metadata": {},
   "source": [
    "PPI.csv (protein- protein interation): gồm hai cột, mỗi cột là một dãy các protein người ở dạng ID, mỗi dòng là các tương tác giữa các protein với nhau. <br>\n",
    "uniprot-brca1-filtered-organism__Homo+sapiens+(Human)+[9606]_.csv: cột Entry chứa ID của protein, cột Gene names chứa tên của gen tương ứng với protein đó."
   ]
  },
  {
   "cell_type": "code",
   "execution_count": 88,
   "metadata": {},
   "outputs": [
    {
     "data": {
      "text/html": [
       "<div>\n",
       "<style scoped>\n",
       "    .dataframe tbody tr th:only-of-type {\n",
       "        vertical-align: middle;\n",
       "    }\n",
       "\n",
       "    .dataframe tbody tr th {\n",
       "        vertical-align: top;\n",
       "    }\n",
       "\n",
       "    .dataframe thead th {\n",
       "        text-align: right;\n",
       "    }\n",
       "</style>\n",
       "<table border=\"1\" class=\"dataframe\">\n",
       "  <thead>\n",
       "    <tr style=\"text-align: right;\">\n",
       "      <th></th>\n",
       "      <th>GeneA</th>\n",
       "      <th>GeneB</th>\n",
       "    </tr>\n",
       "  </thead>\n",
       "  <tbody>\n",
       "    <tr>\n",
       "      <th>0</th>\n",
       "      <td>A0AV47</td>\n",
       "      <td>A0AV47</td>\n",
       "    </tr>\n",
       "    <tr>\n",
       "      <th>1</th>\n",
       "      <td>A0FGR8</td>\n",
       "      <td>A0FGR9</td>\n",
       "    </tr>\n",
       "    <tr>\n",
       "      <th>2</th>\n",
       "      <td>A5PKW4</td>\n",
       "      <td>A5PKW4</td>\n",
       "    </tr>\n",
       "    <tr>\n",
       "      <th>3</th>\n",
       "      <td>A8K0Z3</td>\n",
       "      <td>B3KMC4</td>\n",
       "    </tr>\n",
       "    <tr>\n",
       "      <th>4</th>\n",
       "      <td>A8MVA2</td>\n",
       "      <td>B0QYK1</td>\n",
       "    </tr>\n",
       "  </tbody>\n",
       "</table>\n",
       "</div>"
      ],
      "text/plain": [
       "    GeneA   GeneB\n",
       "0  A0AV47  A0AV47\n",
       "1  A0FGR8  A0FGR9\n",
       "2  A5PKW4  A5PKW4\n",
       "3  A8K0Z3  B3KMC4\n",
       "4  A8MVA2  B0QYK1"
      ]
     },
     "execution_count": 88,
     "metadata": {},
     "output_type": "execute_result"
    }
   ],
   "source": [
    "ppi = pd.read_csv(\"D:/Data Science/Data Science Core/Documents/Data Mining/Data/PPI.csv\")\n",
    "ppi.head()"
   ]
  },
  {
   "cell_type": "code",
   "execution_count": 82,
   "metadata": {},
   "outputs": [
    {
     "data": {
      "text/html": [
       "<div>\n",
       "<style scoped>\n",
       "    .dataframe tbody tr th:only-of-type {\n",
       "        vertical-align: middle;\n",
       "    }\n",
       "\n",
       "    .dataframe tbody tr th {\n",
       "        vertical-align: top;\n",
       "    }\n",
       "\n",
       "    .dataframe thead th {\n",
       "        text-align: right;\n",
       "    }\n",
       "</style>\n",
       "<table border=\"1\" class=\"dataframe\">\n",
       "  <thead>\n",
       "    <tr style=\"text-align: right;\">\n",
       "      <th></th>\n",
       "      <th>Entry</th>\n",
       "      <th>Entry name</th>\n",
       "      <th>Status</th>\n",
       "      <th>Protein names</th>\n",
       "      <th>Gene names</th>\n",
       "      <th>Organism</th>\n",
       "      <th>Length</th>\n",
       "    </tr>\n",
       "  </thead>\n",
       "  <tbody>\n",
       "    <tr>\n",
       "      <th>0</th>\n",
       "      <td>Q96IY4</td>\n",
       "      <td>CBPB2_HUMAN</td>\n",
       "      <td>reviewed</td>\n",
       "      <td>Carboxypeptidase B2 (EC 3.4.17.20) (Carboxypep...</td>\n",
       "      <td>CPB2</td>\n",
       "      <td>Homo sapiens (Human)</td>\n",
       "      <td>423</td>\n",
       "    </tr>\n",
       "    <tr>\n",
       "      <th>1</th>\n",
       "      <td>P22362</td>\n",
       "      <td>CCL1_HUMAN</td>\n",
       "      <td>reviewed</td>\n",
       "      <td>C-C motif chemokine 1 (Small-inducible cytokin...</td>\n",
       "      <td>CCL1 SCYA1</td>\n",
       "      <td>Homo sapiens (Human)</td>\n",
       "      <td>96</td>\n",
       "    </tr>\n",
       "    <tr>\n",
       "      <th>2</th>\n",
       "      <td>Q8NCR9</td>\n",
       "      <td>CLRN3_HUMAN</td>\n",
       "      <td>reviewed</td>\n",
       "      <td>Clarin-3 (Transmembrane protein 12) (Usher syn...</td>\n",
       "      <td>CLRN3 TMEM12 USH3AL1</td>\n",
       "      <td>Homo sapiens (Human)</td>\n",
       "      <td>226</td>\n",
       "    </tr>\n",
       "    <tr>\n",
       "      <th>3</th>\n",
       "      <td>Q8IUK8</td>\n",
       "      <td>CBLN2_HUMAN</td>\n",
       "      <td>reviewed</td>\n",
       "      <td>Cerebellin-2</td>\n",
       "      <td>CBLN2 UNQ1892/PRO4338</td>\n",
       "      <td>Homo sapiens (Human)</td>\n",
       "      <td>224</td>\n",
       "    </tr>\n",
       "    <tr>\n",
       "      <th>4</th>\n",
       "      <td>Q9BX69</td>\n",
       "      <td>CARD6_HUMAN</td>\n",
       "      <td>reviewed</td>\n",
       "      <td>Caspase recruitment domain-containing protein 6</td>\n",
       "      <td>CARD6</td>\n",
       "      <td>Homo sapiens (Human)</td>\n",
       "      <td>1037</td>\n",
       "    </tr>\n",
       "  </tbody>\n",
       "</table>\n",
       "</div>"
      ],
      "text/plain": [
       "    Entry   Entry name    Status  \\\n",
       "0  Q96IY4  CBPB2_HUMAN  reviewed   \n",
       "1  P22362   CCL1_HUMAN  reviewed   \n",
       "2  Q8NCR9  CLRN3_HUMAN  reviewed   \n",
       "3  Q8IUK8  CBLN2_HUMAN  reviewed   \n",
       "4  Q9BX69  CARD6_HUMAN  reviewed   \n",
       "\n",
       "                                       Protein names             Gene names  \\\n",
       "0  Carboxypeptidase B2 (EC 3.4.17.20) (Carboxypep...                   CPB2   \n",
       "1  C-C motif chemokine 1 (Small-inducible cytokin...             CCL1 SCYA1   \n",
       "2  Clarin-3 (Transmembrane protein 12) (Usher syn...   CLRN3 TMEM12 USH3AL1   \n",
       "3                                       Cerebellin-2  CBLN2 UNQ1892/PRO4338   \n",
       "4    Caspase recruitment domain-containing protein 6                  CARD6   \n",
       "\n",
       "               Organism  Length  \n",
       "0  Homo sapiens (Human)     423  \n",
       "1  Homo sapiens (Human)      96  \n",
       "2  Homo sapiens (Human)     226  \n",
       "3  Homo sapiens (Human)     224  \n",
       "4  Homo sapiens (Human)    1037  "
      ]
     },
     "execution_count": 82,
     "metadata": {},
     "output_type": "execute_result"
    }
   ],
   "source": [
    "uniprot = pd.read_csv(\"D:/Data Science/Data Science Core/Documents/Data Mining/Project/uniprot-filtered-organism__Homo+sapiens+(Human)+(9606)_+AND+review--.csv\")\n",
    "uniprot.head()"
   ]
  },
  {
   "cell_type": "markdown",
   "metadata": {},
   "source": [
    "### 1.3 Lọc PPI"
   ]
  },
  {
   "cell_type": "markdown",
   "metadata": {},
   "source": [
    "Số lượng tương tác giữa các protein"
   ]
  },
  {
   "cell_type": "code",
   "execution_count": 80,
   "metadata": {},
   "outputs": [
    {
     "data": {
      "text/plain": [
       "166776"
      ]
     },
     "execution_count": 80,
     "metadata": {},
     "output_type": "execute_result"
    }
   ],
   "source": [
    "ppi.shape[0]"
   ]
  },
  {
   "cell_type": "markdown",
   "metadata": {},
   "source": [
    "#### 1.3.1 Lọc bỏ các tương tác giữa protein với chính nó."
   ]
  },
  {
   "cell_type": "code",
   "execution_count": 92,
   "metadata": {},
   "outputs": [
    {
     "data": {
      "text/plain": [
       "165797"
      ]
     },
     "execution_count": 92,
     "metadata": {},
     "output_type": "execute_result"
    }
   ],
   "source": [
    "ppi_self_drop = ppi[ppi[\"GeneA\"] != ppi[\"GeneB\"]]\n",
    "ppi_self_drop.shape[0]"
   ]
  },
  {
   "cell_type": "code",
   "execution_count": 145,
   "metadata": {},
   "outputs": [
    {
     "data": {
      "text/html": [
       "<div>\n",
       "<style scoped>\n",
       "    .dataframe tbody tr th:only-of-type {\n",
       "        vertical-align: middle;\n",
       "    }\n",
       "\n",
       "    .dataframe tbody tr th {\n",
       "        vertical-align: top;\n",
       "    }\n",
       "\n",
       "    .dataframe thead th {\n",
       "        text-align: right;\n",
       "    }\n",
       "</style>\n",
       "<table border=\"1\" class=\"dataframe\">\n",
       "  <thead>\n",
       "    <tr style=\"text-align: right;\">\n",
       "      <th></th>\n",
       "      <th>GeneA</th>\n",
       "      <th>GeneB</th>\n",
       "    </tr>\n",
       "  </thead>\n",
       "  <tbody>\n",
       "    <tr>\n",
       "      <th>1</th>\n",
       "      <td>A0FGR8</td>\n",
       "      <td>A0FGR9</td>\n",
       "    </tr>\n",
       "    <tr>\n",
       "      <th>3</th>\n",
       "      <td>A8K0Z3</td>\n",
       "      <td>B3KMC4</td>\n",
       "    </tr>\n",
       "    <tr>\n",
       "      <th>4</th>\n",
       "      <td>A8MVA2</td>\n",
       "      <td>B0QYK1</td>\n",
       "    </tr>\n",
       "    <tr>\n",
       "      <th>6</th>\n",
       "      <td>B0QYK1</td>\n",
       "      <td>C9JC66</td>\n",
       "    </tr>\n",
       "    <tr>\n",
       "      <th>7</th>\n",
       "      <td>B1GXI8</td>\n",
       "      <td>B4DV56</td>\n",
       "    </tr>\n",
       "  </tbody>\n",
       "</table>\n",
       "</div>"
      ],
      "text/plain": [
       "    GeneA   GeneB\n",
       "1  A0FGR8  A0FGR9\n",
       "3  A8K0Z3  B3KMC4\n",
       "4  A8MVA2  B0QYK1\n",
       "6  B0QYK1  C9JC66\n",
       "7  B1GXI8  B4DV56"
      ]
     },
     "execution_count": 145,
     "metadata": {},
     "output_type": "execute_result"
    }
   ],
   "source": [
    "ppi_self_drop.head()"
   ]
  },
  {
   "cell_type": "markdown",
   "metadata": {},
   "source": [
    "#### 1.3.2 Kiểm tra sự dư thừa dữ liệu"
   ]
  },
  {
   "cell_type": "markdown",
   "metadata": {},
   "source": [
    "Ta cần kiểm tra xem có tồn tại các liên kết giống nhau hay không, các liên kết giống nhau trong dữ liệu PPI xuất hiện nếu với một dòng (GeneA, GeneB) tồn tại một dòng khác (GeneB, GeneA)."
   ]
  },
  {
   "cell_type": "code",
   "execution_count": 146,
   "metadata": {},
   "outputs": [
    {
     "data": {
      "text/html": [
       "<div>\n",
       "<style scoped>\n",
       "    .dataframe tbody tr th:only-of-type {\n",
       "        vertical-align: middle;\n",
       "    }\n",
       "\n",
       "    .dataframe tbody tr th {\n",
       "        vertical-align: top;\n",
       "    }\n",
       "\n",
       "    .dataframe thead th {\n",
       "        text-align: right;\n",
       "    }\n",
       "</style>\n",
       "<table border=\"1\" class=\"dataframe\">\n",
       "  <thead>\n",
       "    <tr style=\"text-align: right;\">\n",
       "      <th></th>\n",
       "      <th>GeneA</th>\n",
       "      <th>GeneB</th>\n",
       "    </tr>\n",
       "  </thead>\n",
       "  <tbody>\n",
       "    <tr>\n",
       "      <th>1</th>\n",
       "      <td>A0FGR9</td>\n",
       "      <td>A0FGR8</td>\n",
       "    </tr>\n",
       "    <tr>\n",
       "      <th>3</th>\n",
       "      <td>B3KMC4</td>\n",
       "      <td>A8K0Z3</td>\n",
       "    </tr>\n",
       "    <tr>\n",
       "      <th>4</th>\n",
       "      <td>B0QYK1</td>\n",
       "      <td>A8MVA2</td>\n",
       "    </tr>\n",
       "    <tr>\n",
       "      <th>6</th>\n",
       "      <td>C9JC66</td>\n",
       "      <td>B0QYK1</td>\n",
       "    </tr>\n",
       "    <tr>\n",
       "      <th>7</th>\n",
       "      <td>B4DV56</td>\n",
       "      <td>B1GXI8</td>\n",
       "    </tr>\n",
       "  </tbody>\n",
       "</table>\n",
       "</div>"
      ],
      "text/plain": [
       "    GeneA   GeneB\n",
       "1  A0FGR9  A0FGR8\n",
       "3  B3KMC4  A8K0Z3\n",
       "4  B0QYK1  A8MVA2\n",
       "6  C9JC66  B0QYK1\n",
       "7  B4DV56  B1GXI8"
      ]
     },
     "execution_count": 146,
     "metadata": {},
     "output_type": "execute_result"
    }
   ],
   "source": [
    "# Tạo một DataFrame mới bằng cách đảo hai cột của ppi_self_drop cho nhau\n",
    "ppi_inverse = pd.DataFrame({\"GeneA\":ppi_self_drop[\"GeneB\"], \"GeneB\":ppi_self_drop[\"GeneA\"]})\n",
    "ppi_inverse.head()"
   ]
  },
  {
   "cell_type": "code",
   "execution_count": 148,
   "metadata": {},
   "outputs": [
    {
     "data": {
      "text/plain": [
       "331594"
      ]
     },
     "execution_count": 148,
     "metadata": {},
     "output_type": "execute_result"
    }
   ],
   "source": [
    "# Nối hai DataFrame ppi_self_drop với ppi_inverse \n",
    "ppi_concat = pd.concat([ppi_self_drop, ppi_inverse])\n",
    "ppi_concat.shape[0]"
   ]
  },
  {
   "cell_type": "code",
   "execution_count": 152,
   "metadata": {},
   "outputs": [
    {
     "name": "stdout",
     "output_type": "stream",
     "text": [
      "Các hàng giống nhau là:\n",
      "Empty DataFrame\n",
      "Columns: [GeneA, GeneB]\n",
      "Index: []\n"
     ]
    }
   ],
   "source": [
    "# Chọn các hàng giống nhau\n",
    "duplicate_RowsDF = ppi_concat[ppi_concat.duplicated()]\n",
    " \n",
    "print(\"Các hàng giống nhau là:\")\n",
    "print(duplicate_RowsDF)"
   ]
  },
  {
   "cell_type": "markdown",
   "metadata": {},
   "source": [
    "Như vậy không tồn tại các liên kết dư thừa trong dữ liệu ppi_self_drop."
   ]
  },
  {
   "cell_type": "markdown",
   "metadata": {},
   "source": [
    "#### 1.3.3 Lọc các protein không có trong uniprot"
   ]
  },
  {
   "cell_type": "markdown",
   "metadata": {},
   "source": [
    "Lọc bỏ các tương tác protein mà các protein không có trong \"uniprot-brca1-filtered-organism__Homo+sapiens+(Human)+[9606]_.csv\""
   ]
  },
  {
   "cell_type": "code",
   "execution_count": 160,
   "metadata": {},
   "outputs": [
    {
     "name": "stdout",
     "output_type": "stream",
     "text": [
      "['A0FGR8' 'A8K0Z3' 'A8MVA2' ... 'Q9Y6M7' 'Q9Y6Q9' 'Q9Y6X2']\n",
      "['A0AUZ9' 'A0AV47' 'A0AV96' ... 'Q9ZPE7' 'Q9ZV85' 'Q9ZVX4']\n"
     ]
    }
   ],
   "source": [
    "# Các protein id trong từng cột GeneA và GeneB của ppi_self_drop\n",
    "Gene_A = np.unique(ppi_self_drop[\"GeneA\"])\n",
    "Gene_B = np.unique(ppi_self_drop[\"GeneB\"])\n",
    "print(Gene_A)\n",
    "print(Gene_B)"
   ]
  },
  {
   "cell_type": "code",
   "execution_count": 172,
   "metadata": {},
   "outputs": [
    {
     "data": {
      "text/plain": [
       "array(['A0AUZ9', 'A0AV47', 'A0AV96', ..., 'Q9ZPE7', 'Q9ZV85', 'Q9ZVX4'],\n",
       "      dtype=object)"
      ]
     },
     "execution_count": 172,
     "metadata": {},
     "output_type": "execute_result"
    }
   ],
   "source": [
    "# Các protein id trong dữ liệu ppi_self_drop\n",
    "Gene_concat = np.concatenate((Gene_A, Gene_B))\n",
    "ppi_id = np.unique(Gene_concat)\n",
    "ppi_id"
   ]
  },
  {
   "cell_type": "code",
   "execution_count": 176,
   "metadata": {},
   "outputs": [
    {
     "data": {
      "text/plain": [
       "0    Q96IY4\n",
       "1    P22362\n",
       "2    Q8NCR9\n",
       "3    Q8IUK8\n",
       "4    Q9BX69\n",
       "Name: Entry, dtype: object"
      ]
     },
     "execution_count": 176,
     "metadata": {},
     "output_type": "execute_result"
    }
   ],
   "source": [
    "# Các protein id có trong uniprot\n",
    "uniprot_id = uniprot[\"Entry\"]\n",
    "uniprot_id.head()"
   ]
  },
  {
   "cell_type": "code",
   "execution_count": 184,
   "metadata": {},
   "outputs": [
    {
     "data": {
      "text/plain": [
       "15160"
      ]
     },
     "execution_count": 184,
     "metadata": {},
     "output_type": "execute_result"
    }
   ],
   "source": [
    "# Các protein_id trong ppi_self_drop có trong uniprot\n",
    "protein_id = list(set(ppi_id).intersection(uniprot_id))\n",
    "len(protein_id)"
   ]
  },
  {
   "cell_type": "code",
   "execution_count": 250,
   "metadata": {},
   "outputs": [],
   "source": [
    "# Những vị trí trong cột GeneA của ppi_self_drop có trong protein_id\n",
    "boolean_A = []\n",
    "for x in ppi_self_drop[\"GeneA\"]:\n",
    "    boolean_A.append(x in protein_id)"
   ]
  },
  {
   "cell_type": "code",
   "execution_count": 224,
   "metadata": {},
   "outputs": [],
   "source": [
    "# Những vị trí trong cột GeneB của ppi_self_drop có trong protein_id\n",
    "boolean_B = []\n",
    "for x in ppi_self_drop[\"GeneB\"]:\n",
    "    boolean_B.append(x in protein_id)"
   ]
  },
  {
   "cell_type": "code",
   "execution_count": 237,
   "metadata": {},
   "outputs": [],
   "source": [
    "# Những vị trí ở cả hai cột GeneA và GeneB của ppio_self_drop đều có trong protein_id\n",
    "boolean = []\n",
    "for i in range(len(boolean_A)):\n",
    "    if boolean_A[i] == True and boolean_B[i] == True:\n",
    "        boolean.append(True)\n",
    "    elif boolean_A[i] == True and boolean_B[i] == False:\n",
    "        boolean.append(False)\n",
    "    elif boolean_A[i] == False and boolean_B[i] == False:\n",
    "        boolean.append(False)\n",
    "    elif boolean_A[i] == False and boolean_B[i] == True:\n",
    "        boolean.append(False)"
   ]
  },
  {
   "cell_type": "markdown",
   "metadata": {},
   "source": [
    "Lọc các protein ở ppi_self_drop không có trong uniprot"
   ]
  },
  {
   "cell_type": "code",
   "execution_count": 241,
   "metadata": {},
   "outputs": [],
   "source": [
    "ppi_filter = ppi_self_drop[boolean]"
   ]
  },
  {
   "cell_type": "code",
   "execution_count": 248,
   "metadata": {},
   "outputs": [
    {
     "name": "stdout",
     "output_type": "stream",
     "text": [
      "Dữ liệu PPI sau khi lọc có: 15160 protein và 160320 tương tác.\n"
     ]
    }
   ],
   "source": [
    "print(\"Dữ liệu PPI sau khi lọc có: %d protein và %d tương tác.\" %(len(protein_id),len(ppi_filter)))"
   ]
  },
  {
   "cell_type": "markdown",
   "metadata": {},
   "source": [
    "## 2 Tiền xử lý dữ liệu biểu hiện Gen"
   ]
  },
  {
   "cell_type": "code",
   "execution_count": 249,
   "metadata": {},
   "outputs": [],
   "source": [
    "with open (\"D:/Data Science/Data Science Core/Documents/Data Mining/Data/Disease_Gene_Expression_Data_Sets/Ovary_Cancer/GSE9891_series_matrix.txt\") as file:\n",
    "    text = file.read()\n",
    "    print(text.head())"
   ]
  }
 ],
 "metadata": {
  "kernelspec": {
   "display_name": "Python 3",
   "language": "python",
   "name": "python3"
  },
  "language_info": {
   "codemirror_mode": {
    "name": "ipython",
    "version": 3
   },
   "file_extension": ".py",
   "mimetype": "text/x-python",
   "name": "python",
   "nbconvert_exporter": "python",
   "pygments_lexer": "ipython3",
   "version": "3.6.7"
  }
 },
 "nbformat": 4,
 "nbformat_minor": 2
}
