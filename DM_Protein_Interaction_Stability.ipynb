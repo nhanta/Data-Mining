{
 "cells": [
  {
   "cell_type": "markdown",
   "metadata": {},
   "source": [
    "## Một cách tiếp cận tính toán áp dụng Simulated Annealing để nghiên cứu tính ổn định của mạng tương tác protein trong ung thư và rối loạn thần kinh. "
   ]
  },
  {
   "cell_type": "markdown",
   "metadata": {},
   "source": [
    "Authors: NhanTV, Trung NT <br>\n",
    "Master Student<br>\n",
    "VNU - HUS\n"
   ]
  },
  {
   "cell_type": "markdown",
   "metadata": {},
   "source": [
    "## Mục đích"
   ]
  },
  {
   "cell_type": "markdown",
   "metadata": {},
   "source": [
    "Dựng lại bài báo khoa học: \"A computational approach inspired by simulated annealing to study the stability of protein interaction networks in cancer and neurological disorders\". "
   ]
  },
  {
   "cell_type": "markdown",
   "metadata": {},
   "source": [
    "## 1 Lọc PPI"
   ]
  },
  {
   "cell_type": "markdown",
   "metadata": {},
   "source": [
    "### 1.1 Nhập thư viện"
   ]
  },
  {
   "cell_type": "code",
   "execution_count": 2,
   "metadata": {},
   "outputs": [],
   "source": [
    "import numpy as np\n",
    "import pandas as pd\n",
    "import glob\n",
    "import scipy\n",
    "import matplotlib as mpl\n",
    "import matplotlib.pyplot as plt\n",
    "import seaborn as sns"
   ]
  },
  {
   "cell_type": "markdown",
   "metadata": {},
   "source": [
    "### 1.2 Đọc dữ liệu PPI, uniprot"
   ]
  },
  {
   "cell_type": "markdown",
   "metadata": {},
   "source": [
    "PPI.csv (protein- protein interation): gồm hai cột, mỗi cột là một dãy các protein người ở dạng ID, mỗi dòng là các tương tác giữa các protein với nhau. <br>\n",
    "uniprot-brca1-filtered-organism__Homo+sapiens+(Human)+[9606]_.csv: cột Entry chứa ID của protein, cột Gene names chứa tên của gen tương ứng với protein đó."
   ]
  },
  {
   "cell_type": "code",
   "execution_count": 88,
   "metadata": {},
   "outputs": [
    {
     "data": {
      "text/html": [
       "<div>\n",
       "<style scoped>\n",
       "    .dataframe tbody tr th:only-of-type {\n",
       "        vertical-align: middle;\n",
       "    }\n",
       "\n",
       "    .dataframe tbody tr th {\n",
       "        vertical-align: top;\n",
       "    }\n",
       "\n",
       "    .dataframe thead th {\n",
       "        text-align: right;\n",
       "    }\n",
       "</style>\n",
       "<table border=\"1\" class=\"dataframe\">\n",
       "  <thead>\n",
       "    <tr style=\"text-align: right;\">\n",
       "      <th></th>\n",
       "      <th>GeneA</th>\n",
       "      <th>GeneB</th>\n",
       "    </tr>\n",
       "  </thead>\n",
       "  <tbody>\n",
       "    <tr>\n",
       "      <th>0</th>\n",
       "      <td>A0AV47</td>\n",
       "      <td>A0AV47</td>\n",
       "    </tr>\n",
       "    <tr>\n",
       "      <th>1</th>\n",
       "      <td>A0FGR8</td>\n",
       "      <td>A0FGR9</td>\n",
       "    </tr>\n",
       "    <tr>\n",
       "      <th>2</th>\n",
       "      <td>A5PKW4</td>\n",
       "      <td>A5PKW4</td>\n",
       "    </tr>\n",
       "    <tr>\n",
       "      <th>3</th>\n",
       "      <td>A8K0Z3</td>\n",
       "      <td>B3KMC4</td>\n",
       "    </tr>\n",
       "    <tr>\n",
       "      <th>4</th>\n",
       "      <td>A8MVA2</td>\n",
       "      <td>B0QYK1</td>\n",
       "    </tr>\n",
       "  </tbody>\n",
       "</table>\n",
       "</div>"
      ],
      "text/plain": [
       "    GeneA   GeneB\n",
       "0  A0AV47  A0AV47\n",
       "1  A0FGR8  A0FGR9\n",
       "2  A5PKW4  A5PKW4\n",
       "3  A8K0Z3  B3KMC4\n",
       "4  A8MVA2  B0QYK1"
      ]
     },
     "execution_count": 88,
     "metadata": {},
     "output_type": "execute_result"
    }
   ],
   "source": [
    "ppi = pd.read_csv(\"D:/Data Science/Data Science Core/Documents/Data Mining/Data/PPI.csv\")\n",
    "ppi.head()"
   ]
  },
  {
   "cell_type": "code",
   "execution_count": 82,
   "metadata": {},
   "outputs": [
    {
     "data": {
      "text/html": [
       "<div>\n",
       "<style scoped>\n",
       "    .dataframe tbody tr th:only-of-type {\n",
       "        vertical-align: middle;\n",
       "    }\n",
       "\n",
       "    .dataframe tbody tr th {\n",
       "        vertical-align: top;\n",
       "    }\n",
       "\n",
       "    .dataframe thead th {\n",
       "        text-align: right;\n",
       "    }\n",
       "</style>\n",
       "<table border=\"1\" class=\"dataframe\">\n",
       "  <thead>\n",
       "    <tr style=\"text-align: right;\">\n",
       "      <th></th>\n",
       "      <th>Entry</th>\n",
       "      <th>Entry name</th>\n",
       "      <th>Status</th>\n",
       "      <th>Protein names</th>\n",
       "      <th>Gene names</th>\n",
       "      <th>Organism</th>\n",
       "      <th>Length</th>\n",
       "    </tr>\n",
       "  </thead>\n",
       "  <tbody>\n",
       "    <tr>\n",
       "      <th>0</th>\n",
       "      <td>Q96IY4</td>\n",
       "      <td>CBPB2_HUMAN</td>\n",
       "      <td>reviewed</td>\n",
       "      <td>Carboxypeptidase B2 (EC 3.4.17.20) (Carboxypep...</td>\n",
       "      <td>CPB2</td>\n",
       "      <td>Homo sapiens (Human)</td>\n",
       "      <td>423</td>\n",
       "    </tr>\n",
       "    <tr>\n",
       "      <th>1</th>\n",
       "      <td>P22362</td>\n",
       "      <td>CCL1_HUMAN</td>\n",
       "      <td>reviewed</td>\n",
       "      <td>C-C motif chemokine 1 (Small-inducible cytokin...</td>\n",
       "      <td>CCL1 SCYA1</td>\n",
       "      <td>Homo sapiens (Human)</td>\n",
       "      <td>96</td>\n",
       "    </tr>\n",
       "    <tr>\n",
       "      <th>2</th>\n",
       "      <td>Q8NCR9</td>\n",
       "      <td>CLRN3_HUMAN</td>\n",
       "      <td>reviewed</td>\n",
       "      <td>Clarin-3 (Transmembrane protein 12) (Usher syn...</td>\n",
       "      <td>CLRN3 TMEM12 USH3AL1</td>\n",
       "      <td>Homo sapiens (Human)</td>\n",
       "      <td>226</td>\n",
       "    </tr>\n",
       "    <tr>\n",
       "      <th>3</th>\n",
       "      <td>Q8IUK8</td>\n",
       "      <td>CBLN2_HUMAN</td>\n",
       "      <td>reviewed</td>\n",
       "      <td>Cerebellin-2</td>\n",
       "      <td>CBLN2 UNQ1892/PRO4338</td>\n",
       "      <td>Homo sapiens (Human)</td>\n",
       "      <td>224</td>\n",
       "    </tr>\n",
       "    <tr>\n",
       "      <th>4</th>\n",
       "      <td>Q9BX69</td>\n",
       "      <td>CARD6_HUMAN</td>\n",
       "      <td>reviewed</td>\n",
       "      <td>Caspase recruitment domain-containing protein 6</td>\n",
       "      <td>CARD6</td>\n",
       "      <td>Homo sapiens (Human)</td>\n",
       "      <td>1037</td>\n",
       "    </tr>\n",
       "  </tbody>\n",
       "</table>\n",
       "</div>"
      ],
      "text/plain": [
       "    Entry   Entry name    Status  \\\n",
       "0  Q96IY4  CBPB2_HUMAN  reviewed   \n",
       "1  P22362   CCL1_HUMAN  reviewed   \n",
       "2  Q8NCR9  CLRN3_HUMAN  reviewed   \n",
       "3  Q8IUK8  CBLN2_HUMAN  reviewed   \n",
       "4  Q9BX69  CARD6_HUMAN  reviewed   \n",
       "\n",
       "                                       Protein names             Gene names  \\\n",
       "0  Carboxypeptidase B2 (EC 3.4.17.20) (Carboxypep...                   CPB2   \n",
       "1  C-C motif chemokine 1 (Small-inducible cytokin...             CCL1 SCYA1   \n",
       "2  Clarin-3 (Transmembrane protein 12) (Usher syn...   CLRN3 TMEM12 USH3AL1   \n",
       "3                                       Cerebellin-2  CBLN2 UNQ1892/PRO4338   \n",
       "4    Caspase recruitment domain-containing protein 6                  CARD6   \n",
       "\n",
       "               Organism  Length  \n",
       "0  Homo sapiens (Human)     423  \n",
       "1  Homo sapiens (Human)      96  \n",
       "2  Homo sapiens (Human)     226  \n",
       "3  Homo sapiens (Human)     224  \n",
       "4  Homo sapiens (Human)    1037  "
      ]
     },
     "execution_count": 82,
     "metadata": {},
     "output_type": "execute_result"
    }
   ],
   "source": [
    "uniprot = pd.read_csv(\"D:/Data Science/Data Science Core/Documents/Data Mining/Project/uniprot-filtered-organism__Homo+sapiens+(Human)+(9606)_+AND+review--.csv\")\n",
    "uniprot.head()"
   ]
  },
  {
   "cell_type": "markdown",
   "metadata": {},
   "source": [
    "### 1.3 Lọc PPI"
   ]
  },
  {
   "cell_type": "markdown",
   "metadata": {},
   "source": [
    "Số lượng tương tác giữa các protein"
   ]
  },
  {
   "cell_type": "code",
   "execution_count": 80,
   "metadata": {},
   "outputs": [
    {
     "data": {
      "text/plain": [
       "166776"
      ]
     },
     "execution_count": 80,
     "metadata": {},
     "output_type": "execute_result"
    }
   ],
   "source": [
    "ppi.shape[0]"
   ]
  },
  {
   "cell_type": "markdown",
   "metadata": {},
   "source": [
    "#### 1.3.1 Lọc bỏ các tương tác giữa protein với chính nó."
   ]
  },
  {
   "cell_type": "code",
   "execution_count": 92,
   "metadata": {},
   "outputs": [
    {
     "data": {
      "text/plain": [
       "165797"
      ]
     },
     "execution_count": 92,
     "metadata": {},
     "output_type": "execute_result"
    }
   ],
   "source": [
    "ppi_self_drop = ppi[ppi[\"GeneA\"] != ppi[\"GeneB\"]]\n",
    "ppi_self_drop.shape[0]"
   ]
  },
  {
   "cell_type": "code",
   "execution_count": 145,
   "metadata": {},
   "outputs": [
    {
     "data": {
      "text/html": [
       "<div>\n",
       "<style scoped>\n",
       "    .dataframe tbody tr th:only-of-type {\n",
       "        vertical-align: middle;\n",
       "    }\n",
       "\n",
       "    .dataframe tbody tr th {\n",
       "        vertical-align: top;\n",
       "    }\n",
       "\n",
       "    .dataframe thead th {\n",
       "        text-align: right;\n",
       "    }\n",
       "</style>\n",
       "<table border=\"1\" class=\"dataframe\">\n",
       "  <thead>\n",
       "    <tr style=\"text-align: right;\">\n",
       "      <th></th>\n",
       "      <th>GeneA</th>\n",
       "      <th>GeneB</th>\n",
       "    </tr>\n",
       "  </thead>\n",
       "  <tbody>\n",
       "    <tr>\n",
       "      <th>1</th>\n",
       "      <td>A0FGR8</td>\n",
       "      <td>A0FGR9</td>\n",
       "    </tr>\n",
       "    <tr>\n",
       "      <th>3</th>\n",
       "      <td>A8K0Z3</td>\n",
       "      <td>B3KMC4</td>\n",
       "    </tr>\n",
       "    <tr>\n",
       "      <th>4</th>\n",
       "      <td>A8MVA2</td>\n",
       "      <td>B0QYK1</td>\n",
       "    </tr>\n",
       "    <tr>\n",
       "      <th>6</th>\n",
       "      <td>B0QYK1</td>\n",
       "      <td>C9JC66</td>\n",
       "    </tr>\n",
       "    <tr>\n",
       "      <th>7</th>\n",
       "      <td>B1GXI8</td>\n",
       "      <td>B4DV56</td>\n",
       "    </tr>\n",
       "  </tbody>\n",
       "</table>\n",
       "</div>"
      ],
      "text/plain": [
       "    GeneA   GeneB\n",
       "1  A0FGR8  A0FGR9\n",
       "3  A8K0Z3  B3KMC4\n",
       "4  A8MVA2  B0QYK1\n",
       "6  B0QYK1  C9JC66\n",
       "7  B1GXI8  B4DV56"
      ]
     },
     "execution_count": 145,
     "metadata": {},
     "output_type": "execute_result"
    }
   ],
   "source": [
    "ppi_self_drop.head()"
   ]
  },
  {
   "cell_type": "markdown",
   "metadata": {},
   "source": [
    "#### 1.3.2 Kiểm tra sự dư thừa dữ liệu"
   ]
  },
  {
   "cell_type": "markdown",
   "metadata": {},
   "source": [
    "Ta cần kiểm tra xem có tồn tại các liên kết giống nhau hay không, các liên kết giống nhau trong dữ liệu PPI xuất hiện nếu với một dòng (GeneA, GeneB) tồn tại một dòng khác (GeneB, GeneA)."
   ]
  },
  {
   "cell_type": "code",
   "execution_count": 146,
   "metadata": {},
   "outputs": [
    {
     "data": {
      "text/html": [
       "<div>\n",
       "<style scoped>\n",
       "    .dataframe tbody tr th:only-of-type {\n",
       "        vertical-align: middle;\n",
       "    }\n",
       "\n",
       "    .dataframe tbody tr th {\n",
       "        vertical-align: top;\n",
       "    }\n",
       "\n",
       "    .dataframe thead th {\n",
       "        text-align: right;\n",
       "    }\n",
       "</style>\n",
       "<table border=\"1\" class=\"dataframe\">\n",
       "  <thead>\n",
       "    <tr style=\"text-align: right;\">\n",
       "      <th></th>\n",
       "      <th>GeneA</th>\n",
       "      <th>GeneB</th>\n",
       "    </tr>\n",
       "  </thead>\n",
       "  <tbody>\n",
       "    <tr>\n",
       "      <th>1</th>\n",
       "      <td>A0FGR9</td>\n",
       "      <td>A0FGR8</td>\n",
       "    </tr>\n",
       "    <tr>\n",
       "      <th>3</th>\n",
       "      <td>B3KMC4</td>\n",
       "      <td>A8K0Z3</td>\n",
       "    </tr>\n",
       "    <tr>\n",
       "      <th>4</th>\n",
       "      <td>B0QYK1</td>\n",
       "      <td>A8MVA2</td>\n",
       "    </tr>\n",
       "    <tr>\n",
       "      <th>6</th>\n",
       "      <td>C9JC66</td>\n",
       "      <td>B0QYK1</td>\n",
       "    </tr>\n",
       "    <tr>\n",
       "      <th>7</th>\n",
       "      <td>B4DV56</td>\n",
       "      <td>B1GXI8</td>\n",
       "    </tr>\n",
       "  </tbody>\n",
       "</table>\n",
       "</div>"
      ],
      "text/plain": [
       "    GeneA   GeneB\n",
       "1  A0FGR9  A0FGR8\n",
       "3  B3KMC4  A8K0Z3\n",
       "4  B0QYK1  A8MVA2\n",
       "6  C9JC66  B0QYK1\n",
       "7  B4DV56  B1GXI8"
      ]
     },
     "execution_count": 146,
     "metadata": {},
     "output_type": "execute_result"
    }
   ],
   "source": [
    "# Tạo một DataFrame mới bằng cách đảo hai cột của ppi_self_drop cho nhau\n",
    "ppi_inverse = pd.DataFrame({\"GeneA\":ppi_self_drop[\"GeneB\"], \"GeneB\":ppi_self_drop[\"GeneA\"]})\n",
    "ppi_inverse.head()"
   ]
  },
  {
   "cell_type": "code",
   "execution_count": 148,
   "metadata": {},
   "outputs": [
    {
     "data": {
      "text/plain": [
       "331594"
      ]
     },
     "execution_count": 148,
     "metadata": {},
     "output_type": "execute_result"
    }
   ],
   "source": [
    "# Nối hai DataFrame ppi_self_drop với ppi_inverse \n",
    "ppi_concat = pd.concat([ppi_self_drop, ppi_inverse])\n",
    "ppi_concat.shape[0]"
   ]
  },
  {
   "cell_type": "code",
   "execution_count": 152,
   "metadata": {},
   "outputs": [
    {
     "name": "stdout",
     "output_type": "stream",
     "text": [
      "Các hàng giống nhau là:\n",
      "Empty DataFrame\n",
      "Columns: [GeneA, GeneB]\n",
      "Index: []\n"
     ]
    }
   ],
   "source": [
    "# Chọn các hàng giống nhau\n",
    "duplicate_RowsDF = ppi_concat[ppi_concat.duplicated()]\n",
    " \n",
    "print(\"Các hàng giống nhau là:\")\n",
    "print(duplicate_RowsDF)"
   ]
  },
  {
   "cell_type": "markdown",
   "metadata": {},
   "source": [
    "Như vậy không tồn tại các liên kết dư thừa trong dữ liệu ppi_self_drop."
   ]
  },
  {
   "cell_type": "markdown",
   "metadata": {},
   "source": [
    "#### 1.3.3 Lọc các protein không có trong uniprot"
   ]
  },
  {
   "cell_type": "markdown",
   "metadata": {},
   "source": [
    "Lọc bỏ các tương tác protein mà các protein không có trong \"uniprot-brca1-filtered-organism__Homo+sapiens+(Human)+[9606]_.csv\""
   ]
  },
  {
   "cell_type": "code",
   "execution_count": 160,
   "metadata": {},
   "outputs": [
    {
     "name": "stdout",
     "output_type": "stream",
     "text": [
      "['A0FGR8' 'A8K0Z3' 'A8MVA2' ... 'Q9Y6M7' 'Q9Y6Q9' 'Q9Y6X2']\n",
      "['A0AUZ9' 'A0AV47' 'A0AV96' ... 'Q9ZPE7' 'Q9ZV85' 'Q9ZVX4']\n"
     ]
    }
   ],
   "source": [
    "# Các protein id trong từng cột GeneA và GeneB của ppi_self_drop\n",
    "Gene_A = np.unique(ppi_self_drop[\"GeneA\"])\n",
    "Gene_B = np.unique(ppi_self_drop[\"GeneB\"])\n",
    "print(Gene_A)\n",
    "print(Gene_B)"
   ]
  },
  {
   "cell_type": "code",
   "execution_count": 172,
   "metadata": {},
   "outputs": [
    {
     "data": {
      "text/plain": [
       "array(['A0AUZ9', 'A0AV47', 'A0AV96', ..., 'Q9ZPE7', 'Q9ZV85', 'Q9ZVX4'],\n",
       "      dtype=object)"
      ]
     },
     "execution_count": 172,
     "metadata": {},
     "output_type": "execute_result"
    }
   ],
   "source": [
    "# Các protein id trong dữ liệu ppi_self_drop\n",
    "Gene_concat = np.concatenate((Gene_A, Gene_B))\n",
    "ppi_id = np.unique(Gene_concat)\n",
    "ppi_id"
   ]
  },
  {
   "cell_type": "code",
   "execution_count": 176,
   "metadata": {},
   "outputs": [
    {
     "data": {
      "text/plain": [
       "0    Q96IY4\n",
       "1    P22362\n",
       "2    Q8NCR9\n",
       "3    Q8IUK8\n",
       "4    Q9BX69\n",
       "Name: Entry, dtype: object"
      ]
     },
     "execution_count": 176,
     "metadata": {},
     "output_type": "execute_result"
    }
   ],
   "source": [
    "# Các protein id có trong uniprot\n",
    "uniprot_id = uniprot[\"Entry\"]\n",
    "uniprot_id.head()"
   ]
  },
  {
   "cell_type": "code",
   "execution_count": 184,
   "metadata": {},
   "outputs": [
    {
     "data": {
      "text/plain": [
       "15160"
      ]
     },
     "execution_count": 184,
     "metadata": {},
     "output_type": "execute_result"
    }
   ],
   "source": [
    "# Các protein_id trong ppi_self_drop có trong uniprot\n",
    "protein_id = list(set(ppi_id).intersection(uniprot_id))\n",
    "len(protein_id)"
   ]
  },
  {
   "cell_type": "code",
   "execution_count": 250,
   "metadata": {},
   "outputs": [],
   "source": [
    "# Những vị trí trong cột GeneA của ppi_self_drop có trong protein_id\n",
    "boolean_A = []\n",
    "for x in ppi_self_drop[\"GeneA\"]:\n",
    "    boolean_A.append(x in protein_id)"
   ]
  },
  {
   "cell_type": "code",
   "execution_count": 224,
   "metadata": {},
   "outputs": [],
   "source": [
    "# Những vị trí trong cột GeneB của ppi_self_drop có trong protein_id\n",
    "boolean_B = []\n",
    "for x in ppi_self_drop[\"GeneB\"]:\n",
    "    boolean_B.append(x in protein_id)"
   ]
  },
  {
   "cell_type": "code",
   "execution_count": 237,
   "metadata": {},
   "outputs": [],
   "source": [
    "# Những vị trí ở cả hai cột GeneA và GeneB của ppio_self_drop đều có trong protein_id\n",
    "boolean = []\n",
    "for i in range(len(boolean_A)):\n",
    "    if boolean_A[i] == True and boolean_B[i] == True:\n",
    "        boolean.append(True)\n",
    "    elif boolean_A[i] == True and boolean_B[i] == False:\n",
    "        boolean.append(False)\n",
    "    elif boolean_A[i] == False and boolean_B[i] == False:\n",
    "        boolean.append(False)\n",
    "    elif boolean_A[i] == False and boolean_B[i] == True:\n",
    "        boolean.append(False)"
   ]
  },
  {
   "cell_type": "markdown",
   "metadata": {},
   "source": [
    "Lọc các protein ở ppi_self_drop không có trong uniprot"
   ]
  },
  {
   "cell_type": "code",
   "execution_count": 241,
   "metadata": {},
   "outputs": [],
   "source": [
    "ppi_filter = ppi_self_drop[boolean]"
   ]
  },
  {
   "cell_type": "code",
   "execution_count": 289,
   "metadata": {},
   "outputs": [],
   "source": [
    "ppi_filter.to_csv (\"D:/Data Science/Data Science Core/Documents/Data Mining/Project/ppi_filter.csv\", index = None, header=True)"
   ]
  },
  {
   "cell_type": "code",
   "execution_count": 248,
   "metadata": {},
   "outputs": [
    {
     "name": "stdout",
     "output_type": "stream",
     "text": [
      "Dữ liệu PPI sau khi lọc có: 15160 protein và 160320 tương tác.\n"
     ]
    }
   ],
   "source": [
    "print(\"Dữ liệu PPI sau khi lọc có: %d protein và %d tương tác.\" %(len(protein_id),len(ppi_filter)))"
   ]
  },
  {
   "cell_type": "markdown",
   "metadata": {},
   "source": [
    "### 1.4 Gán tên cho PPI"
   ]
  },
  {
   "cell_type": "code",
   "execution_count": 282,
   "metadata": {},
   "outputs": [],
   "source": [
    "G_A = []\n",
    "for x in ppi_filter[\"GeneA\"]:\n",
    "    G_A.append(uniprot[\"Gene names\"][uniprot[\"Entry\"] == x].to_list()[0])"
   ]
  },
  {
   "cell_type": "code",
   "execution_count": 284,
   "metadata": {},
   "outputs": [],
   "source": [
    "G_B = []\n",
    "for x in ppi_filter[\"GeneB\"]:\n",
    "    G_B.append(uniprot[\"Gene names\"][uniprot[\"Entry\"] == x].to_list()[0])"
   ]
  },
  {
   "cell_type": "code",
   "execution_count": 288,
   "metadata": {},
   "outputs": [
    {
     "data": {
      "text/html": [
       "<div>\n",
       "<style scoped>\n",
       "    .dataframe tbody tr th:only-of-type {\n",
       "        vertical-align: middle;\n",
       "    }\n",
       "\n",
       "    .dataframe tbody tr th {\n",
       "        vertical-align: top;\n",
       "    }\n",
       "\n",
       "    .dataframe thead th {\n",
       "        text-align: right;\n",
       "    }\n",
       "</style>\n",
       "<table border=\"1\" class=\"dataframe\">\n",
       "  <thead>\n",
       "    <tr style=\"text-align: right;\">\n",
       "      <th></th>\n",
       "      <th>GeneA</th>\n",
       "      <th>GeneB</th>\n",
       "    </tr>\n",
       "  </thead>\n",
       "  <tbody>\n",
       "    <tr>\n",
       "      <th>0</th>\n",
       "      <td>ESYT2 FAM62B KIAA1228</td>\n",
       "      <td>ESYT3 FAM62C</td>\n",
       "    </tr>\n",
       "    <tr>\n",
       "      <th>1</th>\n",
       "      <td>DNASE2 DNASE2A DNL2</td>\n",
       "      <td>OPA1 KIAA0567</td>\n",
       "    </tr>\n",
       "    <tr>\n",
       "      <th>2</th>\n",
       "      <td>DNASE2 DNASE2A DNL2</td>\n",
       "      <td>UBC</td>\n",
       "    </tr>\n",
       "    <tr>\n",
       "      <th>3</th>\n",
       "      <td>DNASE2 DNASE2A DNL2</td>\n",
       "      <td>RRM1 RR1</td>\n",
       "    </tr>\n",
       "    <tr>\n",
       "      <th>4</th>\n",
       "      <td>DNASE2 DNASE2A DNL2</td>\n",
       "      <td>XRN1 SEP1</td>\n",
       "    </tr>\n",
       "  </tbody>\n",
       "</table>\n",
       "</div>"
      ],
      "text/plain": [
       "                   GeneA          GeneB\n",
       "0  ESYT2 FAM62B KIAA1228   ESYT3 FAM62C\n",
       "1    DNASE2 DNASE2A DNL2  OPA1 KIAA0567\n",
       "2    DNASE2 DNASE2A DNL2            UBC\n",
       "3    DNASE2 DNASE2A DNL2       RRM1 RR1\n",
       "4    DNASE2 DNASE2A DNL2      XRN1 SEP1"
      ]
     },
     "execution_count": 288,
     "metadata": {},
     "output_type": "execute_result"
    }
   ],
   "source": [
    "ppi_filtering = pd.DataFrame({\"GeneA\":G_A, \"GeneB\":G_B})\n",
    "ppi_filtering.head()"
   ]
  },
  {
   "cell_type": "code",
   "execution_count": 290,
   "metadata": {},
   "outputs": [],
   "source": [
    "ppi_filtering.to_csv (\"D:/Data Science/Data Science Core/Documents/Data Mining/Project/ppi_filtering.csv\", index = None, header=True)"
   ]
  },
  {
   "cell_type": "markdown",
   "metadata": {},
   "source": [
    "## 2 Dữ liệu biểu hiện gen"
   ]
  },
  {
   "cell_type": "markdown",
   "metadata": {},
   "source": [
    "### 2.1 Chuyển tên các gen trong PPI thành HUGO symbols"
   ]
  },
  {
   "cell_type": "markdown",
   "metadata": {},
   "source": [
    "Tên gen được lấy từ Human Genome U133 Plus 2.0"
   ]
  },
  {
   "cell_type": "code",
   "execution_count": 26,
   "metadata": {},
   "outputs": [
    {
     "data": {
      "text/html": [
       "<div>\n",
       "<style scoped>\n",
       "    .dataframe tbody tr th:only-of-type {\n",
       "        vertical-align: middle;\n",
       "    }\n",
       "\n",
       "    .dataframe tbody tr th {\n",
       "        vertical-align: top;\n",
       "    }\n",
       "\n",
       "    .dataframe thead th {\n",
       "        text-align: right;\n",
       "    }\n",
       "</style>\n",
       "<table border=\"1\" class=\"dataframe\">\n",
       "  <thead>\n",
       "    <tr style=\"text-align: right;\">\n",
       "      <th></th>\n",
       "      <th>affy_hg_u133_plus_2</th>\n",
       "      <th>external_gene_name</th>\n",
       "    </tr>\n",
       "  </thead>\n",
       "  <tbody>\n",
       "    <tr>\n",
       "      <th>0</th>\n",
       "      <td>236894_at</td>\n",
       "      <td>Y_RNA</td>\n",
       "    </tr>\n",
       "    <tr>\n",
       "      <th>1</th>\n",
       "      <td>219955_at</td>\n",
       "      <td>Y_RNA</td>\n",
       "    </tr>\n",
       "    <tr>\n",
       "      <th>2</th>\n",
       "      <td>1560901_at</td>\n",
       "      <td>RNU1-129P</td>\n",
       "    </tr>\n",
       "    <tr>\n",
       "      <th>3</th>\n",
       "      <td>243551_at</td>\n",
       "      <td>RNU1-122P</td>\n",
       "    </tr>\n",
       "    <tr>\n",
       "      <th>4</th>\n",
       "      <td>216856_s_at</td>\n",
       "      <td>AL109925.1</td>\n",
       "    </tr>\n",
       "  </tbody>\n",
       "</table>\n",
       "</div>"
      ],
      "text/plain": [
       "  affy_hg_u133_plus_2 external_gene_name\n",
       "0           236894_at              Y_RNA\n",
       "1           219955_at              Y_RNA\n",
       "2          1560901_at          RNU1-129P\n",
       "3           243551_at          RNU1-122P\n",
       "4         216856_s_at         AL109925.1"
      ]
     },
     "execution_count": 26,
     "metadata": {},
     "output_type": "execute_result"
    }
   ],
   "source": [
    "# Chuyển các HUGO symbols sang tên gen\n",
    "affyids = pd.read_csv(\"D:/Data Science/Data Science Core/Documents/Data Mining/Project/affyids.csv\")\n",
    "affyids.head()"
   ]
  },
  {
   "cell_type": "code",
   "execution_count": 66,
   "metadata": {},
   "outputs": [],
   "source": [
    "# Nhóm các HUGO symbols với cùng một tên gen với nhau\n",
    "group = affyids.groupby(\"external_gene_name\")\n",
    "affy = group.agg(\", \".join)"
   ]
  },
  {
   "cell_type": "code",
   "execution_count": 67,
   "metadata": {},
   "outputs": [
    {
     "data": {
      "text/html": [
       "<div>\n",
       "<style scoped>\n",
       "    .dataframe tbody tr th:only-of-type {\n",
       "        vertical-align: middle;\n",
       "    }\n",
       "\n",
       "    .dataframe tbody tr th {\n",
       "        vertical-align: top;\n",
       "    }\n",
       "\n",
       "    .dataframe thead th {\n",
       "        text-align: right;\n",
       "    }\n",
       "</style>\n",
       "<table border=\"1\" class=\"dataframe\">\n",
       "  <thead>\n",
       "    <tr style=\"text-align: right;\">\n",
       "      <th></th>\n",
       "      <th>external_gene_name</th>\n",
       "      <th>affy_hg_u133_plus_2</th>\n",
       "    </tr>\n",
       "  </thead>\n",
       "  <tbody>\n",
       "    <tr>\n",
       "      <th>0</th>\n",
       "      <td>1-Dec</td>\n",
       "      <td>220781_at</td>\n",
       "    </tr>\n",
       "    <tr>\n",
       "      <th>1</th>\n",
       "      <td>1-Mar</td>\n",
       "      <td>218865_at, 219574_at, 229383_at, 235385_at, 15...</td>\n",
       "    </tr>\n",
       "    <tr>\n",
       "      <th>2</th>\n",
       "      <td>10-Mar</td>\n",
       "      <td>230824_at, 237724_at</td>\n",
       "    </tr>\n",
       "    <tr>\n",
       "      <th>3</th>\n",
       "      <td>11-Mar</td>\n",
       "      <td>239359_at</td>\n",
       "    </tr>\n",
       "    <tr>\n",
       "      <th>4</th>\n",
       "      <td>2-Mar</td>\n",
       "      <td>221636_s_at, 227417_at, 219527_at, 210075_at</td>\n",
       "    </tr>\n",
       "  </tbody>\n",
       "</table>\n",
       "</div>"
      ],
      "text/plain": [
       "  external_gene_name                                affy_hg_u133_plus_2\n",
       "0              1-Dec                                          220781_at\n",
       "1              1-Mar  218865_at, 219574_at, 229383_at, 235385_at, 15...\n",
       "2             10-Mar                               230824_at, 237724_at\n",
       "3             11-Mar                                          239359_at\n",
       "4              2-Mar       221636_s_at, 227417_at, 219527_at, 210075_at"
      ]
     },
     "execution_count": 67,
     "metadata": {},
     "output_type": "execute_result"
    }
   ],
   "source": [
    "affy = affy.reset_index()\n",
    "affy.head()"
   ]
  },
  {
   "cell_type": "code",
   "execution_count": 77,
   "metadata": {},
   "outputs": [
    {
     "data": {
      "text/html": [
       "<div>\n",
       "<style scoped>\n",
       "    .dataframe tbody tr th:only-of-type {\n",
       "        vertical-align: middle;\n",
       "    }\n",
       "\n",
       "    .dataframe tbody tr th {\n",
       "        vertical-align: top;\n",
       "    }\n",
       "\n",
       "    .dataframe thead th {\n",
       "        text-align: right;\n",
       "    }\n",
       "</style>\n",
       "<table border=\"1\" class=\"dataframe\">\n",
       "  <thead>\n",
       "    <tr style=\"text-align: right;\">\n",
       "      <th></th>\n",
       "      <th>GeneA</th>\n",
       "      <th>GeneB</th>\n",
       "    </tr>\n",
       "  </thead>\n",
       "  <tbody>\n",
       "    <tr>\n",
       "      <th>0</th>\n",
       "      <td>ESYT2</td>\n",
       "      <td>ESYT3</td>\n",
       "    </tr>\n",
       "    <tr>\n",
       "      <th>1</th>\n",
       "      <td>DNASE2</td>\n",
       "      <td>OPA1</td>\n",
       "    </tr>\n",
       "    <tr>\n",
       "      <th>2</th>\n",
       "      <td>DNASE2</td>\n",
       "      <td>UBC</td>\n",
       "    </tr>\n",
       "    <tr>\n",
       "      <th>3</th>\n",
       "      <td>DNASE2</td>\n",
       "      <td>RRM1</td>\n",
       "    </tr>\n",
       "    <tr>\n",
       "      <th>4</th>\n",
       "      <td>DNASE2</td>\n",
       "      <td>XRN1</td>\n",
       "    </tr>\n",
       "  </tbody>\n",
       "</table>\n",
       "</div>"
      ],
      "text/plain": [
       "    GeneA  GeneB\n",
       "0   ESYT2  ESYT3\n",
       "1  DNASE2   OPA1\n",
       "2  DNASE2    UBC\n",
       "3  DNASE2   RRM1\n",
       "4  DNASE2   XRN1"
      ]
     },
     "execution_count": 77,
     "metadata": {},
     "output_type": "execute_result"
    }
   ],
   "source": [
    "# PPI sau khi lọc bỏ các tên gen cùng chỉ một gen\n",
    "ppi_filtering_final = pd.read_csv(\"D:/Data Science/Data Science Core/Documents/Data Mining/Project/ppi_filtering_final.csv\")\n",
    "ppi_filtering_final.head()"
   ]
  },
  {
   "cell_type": "code",
   "execution_count": 88,
   "metadata": {},
   "outputs": [],
   "source": [
    "# Ánh xạ tên các gen trong PPI sang HUGO symbols\n",
    "GA = []\n",
    "GB = []\n",
    "\n",
    "for x, y in zip(ppi_filtering_final[\"GeneA\"], ppi_filtering_final[\"GeneB\"]):\n",
    "    A = affy[\"affy_hg_u133_plus_2\"][affy[\"external_gene_name\"] == x].to_list()\n",
    "    B = affy[\"affy_hg_u133_plus_2\"][affy[\"external_gene_name\"] == y].to_list()\n",
    "    if A != [] and B != []:\n",
    "        GA.append(A[0])\n",
    "        GB.append(B[0])"
   ]
  },
  {
   "cell_type": "code",
   "execution_count": 102,
   "metadata": {},
   "outputs": [],
   "source": [
    "PPIs = pd.DataFrame({\"GeneA\": GA, \"GeneB\": GB})"
   ]
  },
  {
   "cell_type": "code",
   "execution_count": 103,
   "metadata": {},
   "outputs": [
    {
     "data": {
      "text/html": [
       "<div>\n",
       "<style scoped>\n",
       "    .dataframe tbody tr th:only-of-type {\n",
       "        vertical-align: middle;\n",
       "    }\n",
       "\n",
       "    .dataframe tbody tr th {\n",
       "        vertical-align: top;\n",
       "    }\n",
       "\n",
       "    .dataframe thead th {\n",
       "        text-align: right;\n",
       "    }\n",
       "</style>\n",
       "<table border=\"1\" class=\"dataframe\">\n",
       "  <thead>\n",
       "    <tr style=\"text-align: right;\">\n",
       "      <th></th>\n",
       "      <th>GeneA</th>\n",
       "      <th>GeneB</th>\n",
       "    </tr>\n",
       "  </thead>\n",
       "  <tbody>\n",
       "    <tr>\n",
       "      <th>0</th>\n",
       "      <td>224699_s_at, 1558511_s_at, 1555830_s_at, 22469...</td>\n",
       "      <td>1554912_at, 239770_at, 1557793_at</td>\n",
       "    </tr>\n",
       "    <tr>\n",
       "      <th>1</th>\n",
       "      <td>209831_x_at, 214992_s_at</td>\n",
       "      <td>212213_x_at, 212214_at, 214306_at</td>\n",
       "    </tr>\n",
       "    <tr>\n",
       "      <th>2</th>\n",
       "      <td>209831_x_at, 214992_s_at</td>\n",
       "      <td>208980_s_at, 211296_x_at</td>\n",
       "    </tr>\n",
       "    <tr>\n",
       "      <th>3</th>\n",
       "      <td>209831_x_at, 214992_s_at</td>\n",
       "      <td>201476_s_at, 201477_s_at</td>\n",
       "    </tr>\n",
       "    <tr>\n",
       "      <th>4</th>\n",
       "      <td>209831_x_at, 214992_s_at</td>\n",
       "      <td>1555785_a_at, 225814_at, 233632_s_at, 1570394_at</td>\n",
       "    </tr>\n",
       "  </tbody>\n",
       "</table>\n",
       "</div>"
      ],
      "text/plain": [
       "                                               GeneA  \\\n",
       "0  224699_s_at, 1558511_s_at, 1555830_s_at, 22469...   \n",
       "1                           209831_x_at, 214992_s_at   \n",
       "2                           209831_x_at, 214992_s_at   \n",
       "3                           209831_x_at, 214992_s_at   \n",
       "4                           209831_x_at, 214992_s_at   \n",
       "\n",
       "                                              GeneB  \n",
       "0                 1554912_at, 239770_at, 1557793_at  \n",
       "1                 212213_x_at, 212214_at, 214306_at  \n",
       "2                          208980_s_at, 211296_x_at  \n",
       "3                          201476_s_at, 201477_s_at  \n",
       "4  1555785_a_at, 225814_at, 233632_s_at, 1570394_at  "
      ]
     },
     "execution_count": 103,
     "metadata": {},
     "output_type": "execute_result"
    }
   ],
   "source": [
    "PPIs.head()"
   ]
  },
  {
   "cell_type": "code",
   "execution_count": 104,
   "metadata": {},
   "outputs": [],
   "source": [
    "PPIs.to_csv (\"D:/Data Science/Data Science Core/Documents/Data Mining/Project/PPIs.csv\", index = None, header=True)"
   ]
  },
  {
   "cell_type": "code",
   "execution_count": 3,
   "metadata": {},
   "outputs": [
    {
     "data": {
      "text/html": [
       "<div>\n",
       "<style scoped>\n",
       "    .dataframe tbody tr th:only-of-type {\n",
       "        vertical-align: middle;\n",
       "    }\n",
       "\n",
       "    .dataframe tbody tr th {\n",
       "        vertical-align: top;\n",
       "    }\n",
       "\n",
       "    .dataframe thead th {\n",
       "        text-align: right;\n",
       "    }\n",
       "</style>\n",
       "<table border=\"1\" class=\"dataframe\">\n",
       "  <thead>\n",
       "    <tr style=\"text-align: right;\">\n",
       "      <th></th>\n",
       "      <th>GeneA</th>\n",
       "      <th>GeneB</th>\n",
       "    </tr>\n",
       "  </thead>\n",
       "  <tbody>\n",
       "    <tr>\n",
       "      <th>0</th>\n",
       "      <td>224699_s_at</td>\n",
       "      <td>1554912_at</td>\n",
       "    </tr>\n",
       "    <tr>\n",
       "      <th>1</th>\n",
       "      <td>209831_x_at</td>\n",
       "      <td>212213_x_at</td>\n",
       "    </tr>\n",
       "    <tr>\n",
       "      <th>2</th>\n",
       "      <td>209831_x_at</td>\n",
       "      <td>208980_s_at</td>\n",
       "    </tr>\n",
       "    <tr>\n",
       "      <th>3</th>\n",
       "      <td>209831_x_at</td>\n",
       "      <td>201476_s_at</td>\n",
       "    </tr>\n",
       "    <tr>\n",
       "      <th>4</th>\n",
       "      <td>209831_x_at</td>\n",
       "      <td>1555785_a_at</td>\n",
       "    </tr>\n",
       "  </tbody>\n",
       "</table>\n",
       "</div>"
      ],
      "text/plain": [
       "         GeneA         GeneB\n",
       "0  224699_s_at    1554912_at\n",
       "1  209831_x_at   212213_x_at\n",
       "2  209831_x_at   208980_s_at\n",
       "3  209831_x_at   201476_s_at\n",
       "4  209831_x_at  1555785_a_at"
      ]
     },
     "execution_count": 3,
     "metadata": {},
     "output_type": "execute_result"
    }
   ],
   "source": [
    "# Tên gen trong PPI đã được chuyển sang HUGO symbols và lọc bỏ một số tên ##\n",
    "hugo_ppi = pd.read_csv(\"D:/Data Science/Data Science Core/Documents/Data Mining/Project/HUGO_PPI.csv\")\n",
    "hugo_ppi.head()"
   ]
  },
  {
   "cell_type": "markdown",
   "metadata": {},
   "source": [
    "### 2.2 Tính năng lượng cho mạng PPI "
   ]
  },
  {
   "cell_type": "code",
   "execution_count": 4,
   "metadata": {},
   "outputs": [],
   "source": [
    "\"\"\"Dữ liệu được lấy sau khi chạy trong R, dữ liệu bao gồm các trường: tên gen, z-score, s và barcode\"\"\"\n",
    "path = \"D:/Data Science/Data Science Core/Documents/Data Mining/Project/Kidney/C/R_result\"\n",
    "all_files = glob.glob(path + \"/*.csv\")\n",
    "data = []\n",
    "for filename in all_files:\n",
    "    disease = pd.read_csv(filename, index_col=None, header=0)\n",
    "    data.append(disease)"
   ]
  },
  {
   "cell_type": "code",
   "execution_count": 5,
   "metadata": {},
   "outputs": [],
   "source": [
    "nE = []\n",
    "for ex_gen in data:\n",
    "    ex_gen.rename(columns={\"Unnamed: 0\": \"GeneA\"}, inplace = True)\n",
    "    common_1 = pd.merge(hugo_ppi[\"GeneA\"], ex_gen, on = \"GeneA\")\n",
    "    ex_gen.rename(columns={\"GeneA\": \"GeneB\"}, inplace = True)\n",
    "    common_2 = pd.merge(hugo_ppi[\"GeneB\"], ex_gen, on = \"GeneB\")\n",
    "    df = pd.DataFrame({\"GeneA\":common_1[\"GeneA\"], \"GeneB\":common_2[\"GeneB\"], \"S_A\":common_1[\"s\"],\"S_B\":common_2[\"s\"], \"barcode_A\":common_1[\"barcode\"], \"barcode_B\":common_2[\"barcode\"]})\n",
    "    s = np.zeros((df.shape[0]))\n",
    "    for i in range(df.shape[0]):\n",
    "        if df.iloc[i, 4] == 1 and df.iloc[i, 5] == 1:\n",
    "            s[i] = -(-1)*df.iloc[i, 2]*df.iloc[i, 3]\n",
    "        else: \n",
    "            s[i] = -(1)*df.iloc[i, 2]*df.iloc[i, 3]\n",
    "    nE.append(sum(s))\n",
    "df_nE = pd.DataFrame({\"nE\": nE})\n",
    "df_nE.to_csv (\"D:/Data Science/Data Science Core/Documents/Data Mining/Project/Kidney/C/nE/nE_C.csv\", index = None, header=True)"
   ]
  },
  {
   "cell_type": "code",
   "execution_count": 6,
   "metadata": {},
   "outputs": [
    {
     "data": {
      "text/html": [
       "<div>\n",
       "<style scoped>\n",
       "    .dataframe tbody tr th:only-of-type {\n",
       "        vertical-align: middle;\n",
       "    }\n",
       "\n",
       "    .dataframe tbody tr th {\n",
       "        vertical-align: top;\n",
       "    }\n",
       "\n",
       "    .dataframe thead th {\n",
       "        text-align: right;\n",
       "    }\n",
       "</style>\n",
       "<table border=\"1\" class=\"dataframe\">\n",
       "  <thead>\n",
       "    <tr style=\"text-align: right;\">\n",
       "      <th></th>\n",
       "      <th>GeneA</th>\n",
       "      <th>GeneB</th>\n",
       "      <th>S_A</th>\n",
       "      <th>S_B</th>\n",
       "      <th>barcode_A</th>\n",
       "      <th>barcode_B</th>\n",
       "    </tr>\n",
       "  </thead>\n",
       "  <tbody>\n",
       "    <tr>\n",
       "      <th>0</th>\n",
       "      <td>224699_s_at</td>\n",
       "      <td>1554912_at</td>\n",
       "      <td>0.994582</td>\n",
       "      <td>0.269644</td>\n",
       "      <td>0</td>\n",
       "      <td>0</td>\n",
       "    </tr>\n",
       "    <tr>\n",
       "      <th>1</th>\n",
       "      <td>209831_x_at</td>\n",
       "      <td>1554912_at</td>\n",
       "      <td>0.588783</td>\n",
       "      <td>0.269644</td>\n",
       "      <td>0</td>\n",
       "      <td>0</td>\n",
       "    </tr>\n",
       "    <tr>\n",
       "      <th>2</th>\n",
       "      <td>209831_x_at</td>\n",
       "      <td>212213_x_at</td>\n",
       "      <td>0.588783</td>\n",
       "      <td>1.000000</td>\n",
       "      <td>0</td>\n",
       "      <td>1</td>\n",
       "    </tr>\n",
       "    <tr>\n",
       "      <th>3</th>\n",
       "      <td>209831_x_at</td>\n",
       "      <td>212213_x_at</td>\n",
       "      <td>0.588783</td>\n",
       "      <td>1.000000</td>\n",
       "      <td>0</td>\n",
       "      <td>1</td>\n",
       "    </tr>\n",
       "    <tr>\n",
       "      <th>4</th>\n",
       "      <td>209831_x_at</td>\n",
       "      <td>212213_x_at</td>\n",
       "      <td>0.588783</td>\n",
       "      <td>1.000000</td>\n",
       "      <td>0</td>\n",
       "      <td>1</td>\n",
       "    </tr>\n",
       "  </tbody>\n",
       "</table>\n",
       "</div>"
      ],
      "text/plain": [
       "         GeneA        GeneB       S_A       S_B  barcode_A  barcode_B\n",
       "0  224699_s_at   1554912_at  0.994582  0.269644          0          0\n",
       "1  209831_x_at   1554912_at  0.588783  0.269644          0          0\n",
       "2  209831_x_at  212213_x_at  0.588783  1.000000          0          1\n",
       "3  209831_x_at  212213_x_at  0.588783  1.000000          0          1\n",
       "4  209831_x_at  212213_x_at  0.588783  1.000000          0          1"
      ]
     },
     "execution_count": 6,
     "metadata": {},
     "output_type": "execute_result"
    }
   ],
   "source": [
    "df.head()"
   ]
  },
  {
   "cell_type": "code",
   "execution_count": 7,
   "metadata": {},
   "outputs": [],
   "source": [
    "nE_D = pd.read_csv(\"D:/Data Science/Data Science Core/Documents/Data Mining/Project/Liver/D/nE/nE_D.csv\")\n",
    "nE_C = pd.read_csv(\"D:/Data Science/Data Science Core/Documents/Data Mining/Project/Liver/C/nE/nE_C.csv\")"
   ]
  },
  {
   "cell_type": "code",
   "execution_count": 8,
   "metadata": {},
   "outputs": [],
   "source": [
    "nE_D[\"State\"] = \"Disease\""
   ]
  },
  {
   "cell_type": "code",
   "execution_count": 9,
   "metadata": {},
   "outputs": [
    {
     "data": {
      "text/html": [
       "<div>\n",
       "<style scoped>\n",
       "    .dataframe tbody tr th:only-of-type {\n",
       "        vertical-align: middle;\n",
       "    }\n",
       "\n",
       "    .dataframe tbody tr th {\n",
       "        vertical-align: top;\n",
       "    }\n",
       "\n",
       "    .dataframe thead th {\n",
       "        text-align: right;\n",
       "    }\n",
       "</style>\n",
       "<table border=\"1\" class=\"dataframe\">\n",
       "  <thead>\n",
       "    <tr style=\"text-align: right;\">\n",
       "      <th></th>\n",
       "      <th>nE</th>\n",
       "      <th>State</th>\n",
       "    </tr>\n",
       "  </thead>\n",
       "  <tbody>\n",
       "    <tr>\n",
       "      <th>0</th>\n",
       "      <td>-30553.967486</td>\n",
       "      <td>Disease</td>\n",
       "    </tr>\n",
       "    <tr>\n",
       "      <th>1</th>\n",
       "      <td>-36129.033660</td>\n",
       "      <td>Disease</td>\n",
       "    </tr>\n",
       "    <tr>\n",
       "      <th>2</th>\n",
       "      <td>-37396.346781</td>\n",
       "      <td>Disease</td>\n",
       "    </tr>\n",
       "    <tr>\n",
       "      <th>3</th>\n",
       "      <td>-36195.574174</td>\n",
       "      <td>Disease</td>\n",
       "    </tr>\n",
       "    <tr>\n",
       "      <th>4</th>\n",
       "      <td>-40954.734714</td>\n",
       "      <td>Disease</td>\n",
       "    </tr>\n",
       "  </tbody>\n",
       "</table>\n",
       "</div>"
      ],
      "text/plain": [
       "             nE    State\n",
       "0 -30553.967486  Disease\n",
       "1 -36129.033660  Disease\n",
       "2 -37396.346781  Disease\n",
       "3 -36195.574174  Disease\n",
       "4 -40954.734714  Disease"
      ]
     },
     "execution_count": 9,
     "metadata": {},
     "output_type": "execute_result"
    }
   ],
   "source": [
    "nE_D.head()"
   ]
  },
  {
   "cell_type": "code",
   "execution_count": 10,
   "metadata": {},
   "outputs": [],
   "source": [
    "nE_C[\"State\"] = \"Control\""
   ]
  },
  {
   "cell_type": "code",
   "execution_count": 11,
   "metadata": {},
   "outputs": [],
   "source": [
    "df_nE = pd.concat([nE_C, nE_D])"
   ]
  },
  {
   "cell_type": "code",
   "execution_count": 12,
   "metadata": {},
   "outputs": [
    {
     "data": {
      "text/html": [
       "<div>\n",
       "<style scoped>\n",
       "    .dataframe tbody tr th:only-of-type {\n",
       "        vertical-align: middle;\n",
       "    }\n",
       "\n",
       "    .dataframe tbody tr th {\n",
       "        vertical-align: top;\n",
       "    }\n",
       "\n",
       "    .dataframe thead th {\n",
       "        text-align: right;\n",
       "    }\n",
       "</style>\n",
       "<table border=\"1\" class=\"dataframe\">\n",
       "  <thead>\n",
       "    <tr style=\"text-align: right;\">\n",
       "      <th></th>\n",
       "      <th>nE</th>\n",
       "      <th>State</th>\n",
       "    </tr>\n",
       "  </thead>\n",
       "  <tbody>\n",
       "    <tr>\n",
       "      <th>0</th>\n",
       "      <td>-50774.643343</td>\n",
       "      <td>Control</td>\n",
       "    </tr>\n",
       "    <tr>\n",
       "      <th>1</th>\n",
       "      <td>-45117.622592</td>\n",
       "      <td>Control</td>\n",
       "    </tr>\n",
       "    <tr>\n",
       "      <th>2</th>\n",
       "      <td>-48340.482797</td>\n",
       "      <td>Control</td>\n",
       "    </tr>\n",
       "    <tr>\n",
       "      <th>3</th>\n",
       "      <td>-46607.622200</td>\n",
       "      <td>Control</td>\n",
       "    </tr>\n",
       "    <tr>\n",
       "      <th>4</th>\n",
       "      <td>-43520.454168</td>\n",
       "      <td>Control</td>\n",
       "    </tr>\n",
       "  </tbody>\n",
       "</table>\n",
       "</div>"
      ],
      "text/plain": [
       "             nE    State\n",
       "0 -50774.643343  Control\n",
       "1 -45117.622592  Control\n",
       "2 -48340.482797  Control\n",
       "3 -46607.622200  Control\n",
       "4 -43520.454168  Control"
      ]
     },
     "execution_count": 12,
     "metadata": {},
     "output_type": "execute_result"
    }
   ],
   "source": [
    "df_nE.head()"
   ]
  },
  {
   "cell_type": "code",
   "execution_count": 117,
   "metadata": {},
   "outputs": [],
   "source": [
    "df_nE.to_csv (\"D:/Data Science/Data Science Core/Documents/Data Mining/Project/Kidney/df_nE.csv\", index = None, header=True)"
   ]
  },
  {
   "cell_type": "code",
   "execution_count": 13,
   "metadata": {},
   "outputs": [],
   "source": [
    "Wil_rank = scipy.stats.wilcoxon(nE_C[\"nE\"], nE_D[\"nE\"])"
   ]
  },
  {
   "cell_type": "code",
   "execution_count": 14,
   "metadata": {},
   "outputs": [
    {
     "data": {
      "text/plain": [
       "WilcoxonResult(statistic=183.0, pvalue=4.043098336586011e-14)"
      ]
     },
     "execution_count": 14,
     "metadata": {},
     "output_type": "execute_result"
    }
   ],
   "source": [
    "Wil_rank"
   ]
  },
  {
   "cell_type": "code",
   "execution_count": 120,
   "metadata": {},
   "outputs": [
    {
     "name": "stdout",
     "output_type": "stream",
     "text": [
      "['bmh', 'classic', 'dark_background', 'fast', 'fivethirtyeight', 'ggplot', 'grayscale', 'seaborn-bright', 'seaborn-colorblind', 'seaborn-dark-palette', 'seaborn-dark', 'seaborn-darkgrid', 'seaborn-deep', 'seaborn-muted', 'seaborn-notebook', 'seaborn-paper', 'seaborn-pastel', 'seaborn-poster', 'seaborn-talk', 'seaborn-ticks', 'seaborn-white', 'seaborn-whitegrid', 'seaborn', 'Solarize_Light2', 'tableau-colorblind10', '_classic_test']\n"
     ]
    }
   ],
   "source": [
    "print (plt.style.available)\n",
    "mpl.style.use(['ggplot'])"
   ]
  },
  {
   "cell_type": "code",
   "execution_count": 15,
   "metadata": {},
   "outputs": [
    {
     "data": {
      "image/png": "[encoded data removed]",
      "text/plain": [
       "<Figure size 432x288 with 1 Axes>"
      ]
     },
     "metadata": {
      "needs_background": "light"
     },
     "output_type": "display_data"
    }
   ],
   "source": [
    "ax= sns.boxplot(x=\"State\", y=\"nE\", data=df_nE)\n",
    "ax= sns.stripplot(x=\"State\", y=\"nE\", data=df_nE, jitter=True, edgecolor=\"gray\")\n",
    "\n",
    "boxtwo = ax.artists[0]\n",
    "boxtwo.set_facecolor('yellow')\n",
    "boxtwo.set_edgecolor('black')\n",
    "boxthree=ax.artists[1]\n",
    "boxthree.set_facecolor('green')\n",
    "boxthree.set_edgecolor('black')\n",
    "\n",
    "plt.title ('Liver, p-value: ' + str(Wil_rank[1]))\n",
    "plt.ylabel ('nE')\n",
    "plt.show()"
   ]
  }
 ],
 "metadata": {
  "kernelspec": {
   "display_name": "Python 3",
   "language": "python",
   "name": "python3"
  },
  "language_info": {
   "codemirror_mode": {
    "name": "ipython",
    "version": 3
   },
   "file_extension": ".py",
   "mimetype": "text/x-python",
   "name": "python",
   "nbconvert_exporter": "python",
   "pygments_lexer": "ipython3",
   "version": "3.6.7"
  }
 },
 "nbformat": 4,
 "nbformat_minor": 2
}
